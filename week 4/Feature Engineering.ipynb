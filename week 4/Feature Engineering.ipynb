{
 "cells": [
  {
   "cell_type": "code",
   "execution_count": null,
   "id": "2b3a531d",
   "metadata": {},
   "outputs": [],
   "source": [
    "### **Feature Engineering**"
   ]
  },
  {
   "cell_type": "markdown",
   "id": "b073e269",
   "metadata": {},
   "source": [
    "**Feature engineering** is the process of transforming raw data into features that are more informative and useful for machine learning models.\n",
    "\n",
    "This can involve a variety of tasks, such as:\n",
    "\n",
    "- Data cleaning: This involves removing noise and inconsistencies from the data.\n",
    "\n",
    "- Data transformation: This involves converting the data into a format that is more suitable for the machine learning model. For example, you may need to convert categorical data to numerical data, or normalize the data so that all features are on the same scale.\n",
    "\n",
    "- Feature creation: This involves creating new features from the existing data. For example, you could create a new feature that represents the ratio of two existing features.\n",
    "\n",
    "Feature engineering is an important step in the machine learning process, and it can have a significant impact on the performance of the model. By carefully engineering your features, you can make your model more accurate and robust.\n"
   ]
  },
  {
   "cell_type": "code",
   "execution_count": null,
   "id": "beabb5f2",
   "metadata": {},
   "outputs": [],
   "source": []
  }
 ],
 "metadata": {
  "kernelspec": {
   "display_name": "Python 3 (ipykernel)",
   "language": "python",
   "name": "python3"
  },
  "language_info": {
   "codemirror_mode": {
    "name": "ipython",
    "version": 3
   },
   "file_extension": ".py",
   "mimetype": "text/x-python",
   "name": "python",
   "nbconvert_exporter": "python",
   "pygments_lexer": "ipython3",
   "version": "3.9.7"
  }
 },
 "nbformat": 4,
 "nbformat_minor": 5
}
